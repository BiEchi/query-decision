{
 "cells": [
  {
   "cell_type": "code",
   "execution_count": 1,
   "metadata": {},
   "outputs": [],
   "source": [
    "import pandas as pd"
   ]
  },
  {
   "cell_type": "code",
   "execution_count": 2,
   "metadata": {},
   "outputs": [],
   "source": [
    "data = pd.read_json('data/raw/maybe_train.jsonl', lines=True)"
   ]
  },
  {
   "cell_type": "code",
   "execution_count": 3,
   "metadata": {},
   "outputs": [],
   "source": [
    "def remove_invalid_tokens(text):\n",
    "    if 'your persona' in text:\n",
    "        return text.split('\\n')[-1]\n",
    "    return text.replace('__do-not-search__\\n', '').replace('__do-search__\\n', '').replace('__SILENCE__\\n', '').replace('__SILENCE__ ', '')"
   ]
  },
  {
   "cell_type": "code",
   "execution_count": 4,
   "metadata": {},
   "outputs": [],
   "source": [
    "texts = data['dialog'].apply(lambda x: x[0][0]['text']).apply(remove_invalid_tokens)\n",
    "labels = data['dialog'].apply(lambda x: x[0][0]['eval_labels'])\n",
    "datasets = data['dialog'].apply(lambda x: x[0][0]['id'])\n",
    "\n",
    "i = 0"
   ]
  },
  {
   "cell_type": "code",
   "execution_count": 15,
   "metadata": {},
   "outputs": [
    {
     "name": "stdout",
     "output_type": "stream",
     "text": [
      "dialog 10\n",
      "===text===\n",
      "Science fiction\n",
      "I'm a huge fan of science fiction myself! \n",
      "I agree. One of my favorite forms of science fiction is anything related to time travel! I find it fascinating.\n",
      "And that's difficult to do when dealing with time travel. I actually haven't seen the latest Harry Potter movies. Guess it's time to check them out! __is-search-required__\n",
      "===label===\n",
      "['__do-search__']\n",
      "===dataset===\n",
      "WowSearchDecisionTeacher\n"
     ]
    }
   ],
   "source": [
    "# inspection\n",
    "print(\"dialog {}\".format(i))\n",
    "print(\"===text===\")\n",
    "print(texts[i])\n",
    "print(\"===label===\")\n",
    "print(labels[i])\n",
    "print(\"===dataset===\")\n",
    "print(datasets[i])\n",
    "i += 1"
   ]
  },
  {
   "cell_type": "code",
   "execution_count": null,
   "metadata": {},
   "outputs": [],
   "source": [
    "df = pd.DataFrame({'text': texts, 'label': labels})"
   ]
  },
  {
   "cell_type": "code",
   "execution_count": null,
   "metadata": {},
   "outputs": [],
   "source": [
    "df.to_csv('data/maybe/train.csv', index=False)"
   ]
  },
  {
   "cell_type": "code",
   "execution_count": null,
   "metadata": {},
   "outputs": [],
   "source": []
  }
 ],
 "metadata": {
  "kernelspec": {
   "display_name": "pytorch",
   "language": "python",
   "name": "python3"
  },
  "language_info": {
   "codemirror_mode": {
    "name": "ipython",
    "version": 3
   },
   "file_extension": ".py",
   "mimetype": "text/x-python",
   "name": "python",
   "nbconvert_exporter": "python",
   "pygments_lexer": "ipython3",
   "version": "3.9.16"
  },
  "orig_nbformat": 4
 },
 "nbformat": 4,
 "nbformat_minor": 2
}
